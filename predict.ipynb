{
 "cells": [
  {
   "cell_type": "code",
   "execution_count": 1,
   "metadata": {},
   "outputs": [],
   "source": [
    "import pandas as pd\n",
    "import numpy as np\n",
    "import re\n",
    "import matplotlib.pyplot as plt\n",
    "%matplotlib inline\n",
    "from fastai.vision import *\n",
    "from IPython.display import display\n",
    "pd.set_option('display.max_rows', 70)\n",
    "pd.set_option('display.max_columns', 40)\n",
    "pd.set_option('display.max_colwidth', 1000)"
   ]
  },
  {
   "cell_type": "markdown",
   "metadata": {},
   "source": [
    "Using the exported, trained model, I will predict the emotions based on the Audio clips where only Sanyam is the speaker, from most of the Episodes.\n",
    "\n",
    "During extraction of the Audio clips, I made some changes compared to the images used for training the model. I removed any axes, ticks, and labels. And removed any possible margins around the image. I also saved these Mel Spectograms as `png`s instead of `jpeg`s like for the training dataset. \n",
    "\n",
    "Minor changes, but for now, this is just piecing things together as quickly as possible and learning along the way."
   ]
  },
  {
   "cell_type": "markdown",
   "metadata": {},
   "source": [
    "### Load Test Images"
   ]
  },
  {
   "cell_type": "code",
   "execution_count": 3,
   "metadata": {},
   "outputs": [],
   "source": [
    "test_images = ImageList.from_folder(\"/notebooks/storage/ctds_data/audio_files_segments/\")"
   ]
  },
  {
   "cell_type": "code",
   "execution_count": 11,
   "metadata": {},
   "outputs": [
    {
     "name": "stdout",
     "output_type": "stream",
     "text": [
      "/notebooks/storage/ctds_data/audio_files_segments/44_49.png\n"
     ]
    }
   ],
   "source": [
    "print(test_images.items[2])"
   ]
  },
  {
   "cell_type": "markdown",
   "metadata": {},
   "source": [
    "### Load model"
   ]
  },
  {
   "cell_type": "code",
   "execution_count": 4,
   "metadata": {},
   "outputs": [],
   "source": [
    "learn = load_learner(\"/notebooks\", \"model_export\", test=test_images)"
   ]
  },
  {
   "cell_type": "markdown",
   "metadata": {},
   "source": [
    "### Predictions"
   ]
  },
  {
   "cell_type": "code",
   "execution_count": 5,
   "metadata": {},
   "outputs": [
    {
     "data": {
      "text/html": [],
      "text/plain": [
       "<IPython.core.display.HTML object>"
      ]
     },
     "metadata": {},
     "output_type": "display_data"
    },
    {
     "name": "stdout",
     "output_type": "stream",
     "text": [
      "torch.Size([2523, 8])\n",
      "tensor([[0.0403, 0.0248, 0.0032, 0.0102, 0.7061, 0.1849, 0.0248, 0.0056],\n",
      "        [0.0450, 0.0080, 0.0035, 0.0071, 0.8305, 0.0239, 0.0754, 0.0065],\n",
      "        [0.0368, 0.0711, 0.0043, 0.0189, 0.3675, 0.3903, 0.1078, 0.0032]])\n"
     ]
    }
   ],
   "source": [
    "preds, y = learn.get_preds(ds_type=DatasetType.Test)\n",
    "\n",
    "print(preds.shape)\n",
    "print(preds[:3])"
   ]
  },
  {
   "cell_type": "code",
   "execution_count": 6,
   "metadata": {},
   "outputs": [
    {
     "name": "stdout",
     "output_type": "stream",
     "text": [
      "torch.Size([2523])\n",
      "tensor([4, 4, 5])\n"
     ]
    }
   ],
   "source": [
    "labels = np.argmax(preds, 1)\n",
    "print(labels.shape)\n",
    "print(labels[:3])"
   ]
  },
  {
   "cell_type": "markdown",
   "metadata": {},
   "source": [
    "### Create DataFrame\n",
    "\n",
    "I will create a new csv that stores the predictions corresponding to the clips. Columns for this csv -\n",
    "\n",
    "- episode_num\n",
    "- clip_num\n",
    "- pred_num\n",
    "- pred_label\n",
    "- speaker\n",
    "\n",
    "Using the existing transcripts - \n",
    "\n",
    "- I will also mark the missing values for the clips I didn't include for this as null. \n",
    "- Include timestamps for the clip\n",
    "\n",
    "I am also adding `speaker` so that I can extend this csv file later when I use the rest of the audio clips."
   ]
  },
  {
   "cell_type": "code",
   "execution_count": 60,
   "metadata": {},
   "outputs": [],
   "source": [
    "episode_check = dict()\n",
    "pattern = r\"segments/(.*).png\"\n",
    "exp = re.compile(pattern)\n",
    "for idx, item in enumerate(test_images.items):\n",
    "    op = exp.findall(str(item))[0]\n",
    "    ep = int(op.split(\"_\")[0])\n",
    "    clip = float(op.split(\"_\")[1])\n",
    "    if ep not in episode_check:\n",
    "        episode_check[ep] = [[clip], [labels[idx]]]\n",
    "    else:\n",
    "        episode_check[ep][0].append(clip)\n",
    "        episode_check[ep][1].append(labels[idx])"
   ]
  },
  {
   "cell_type": "code",
   "execution_count": 30,
   "metadata": {},
   "outputs": [],
   "source": [
    "input_path = \"/notebooks/storage/ctds_data/audio_files/\"\n",
    "path = os.listdir(input_path)\n",
    "data_path = \"/notebooks/storage/ctds_data/Cleaned Subtitles/\"\n",
    "episode_num = []\n",
    "episode_clip = []\n",
    "clip_start = []\n",
    "for file in path:\n",
    "    ep_num = int(file.split('.mp3')[0])\n",
    "\n",
    "    # account for non-interview episodes and missing E4 subtitles and E46\n",
    "    if (ep_num > 45 and ep_num < 55):\n",
    "        continue\n",
    "    elif (ep_num == 4):\n",
    "        episode_num.append(ep_num)\n",
    "        episode_clip.append(np.nan)\n",
    "        clip_start.append(np.nan)\n",
    "        continue\n",
    "    elif ep_num > 54:\n",
    "        ep_num = ep_num - 9\n",
    "    episode_transcript = pd.read_csv(data_path + \"E\" + str(ep_num) + \".csv\")\n",
    "    \n",
    "    count = 0\n",
    "    for idx, time2 in enumerate(episode_transcript[\"Time\"]):\n",
    "        episode_num.append(ep_num)\n",
    "        episode_clip.append(idx)\n",
    "        clip_start.append(time2)"
   ]
  },
  {
   "cell_type": "code",
   "execution_count": 33,
   "metadata": {},
   "outputs": [
    {
     "name": "stdout",
     "output_type": "stream",
     "text": [
      "7650 7650 7650\n"
     ]
    }
   ],
   "source": [
    "print(len(episode_num), len(episode_clip), len(clip_start))"
   ]
  },
  {
   "cell_type": "code",
   "execution_count": 35,
   "metadata": {},
   "outputs": [],
   "source": [
    "data = {\"episode_num\": episode_num, \"episode_clip\": episode_clip, \"clip_start\": clip_start}\n",
    "predictions = pd.DataFrame(data=data)"
   ]
  },
  {
   "cell_type": "code",
   "execution_count": 38,
   "metadata": {},
   "outputs": [
    {
     "data": {
      "text/html": [
       "<div>\n",
       "<style scoped>\n",
       "    .dataframe tbody tr th:only-of-type {\n",
       "        vertical-align: middle;\n",
       "    }\n",
       "\n",
       "    .dataframe tbody tr th {\n",
       "        vertical-align: top;\n",
       "    }\n",
       "\n",
       "    .dataframe thead th {\n",
       "        text-align: right;\n",
       "    }\n",
       "</style>\n",
       "<table border=\"1\" class=\"dataframe\">\n",
       "  <thead>\n",
       "    <tr style=\"text-align: right;\">\n",
       "      <th></th>\n",
       "      <th>episode_num</th>\n",
       "      <th>episode_clip</th>\n",
       "      <th>clip_start</th>\n",
       "    </tr>\n",
       "  </thead>\n",
       "  <tbody>\n",
       "    <tr>\n",
       "      <th>3304</th>\n",
       "      <td>75</td>\n",
       "      <td>68.0</td>\n",
       "      <td>32:35</td>\n",
       "    </tr>\n",
       "    <tr>\n",
       "      <th>2096</th>\n",
       "      <td>62</td>\n",
       "      <td>60.0</td>\n",
       "      <td>54:21</td>\n",
       "    </tr>\n",
       "    <tr>\n",
       "      <th>4506</th>\n",
       "      <td>5</td>\n",
       "      <td>52.0</td>\n",
       "      <td>27:18</td>\n",
       "    </tr>\n",
       "    <tr>\n",
       "      <th>5523</th>\n",
       "      <td>37</td>\n",
       "      <td>69.0</td>\n",
       "      <td>1:00:25</td>\n",
       "    </tr>\n",
       "    <tr>\n",
       "      <th>6815</th>\n",
       "      <td>35</td>\n",
       "      <td>52.0</td>\n",
       "      <td>21:29</td>\n",
       "    </tr>\n",
       "  </tbody>\n",
       "</table>\n",
       "</div>"
      ],
      "text/plain": [
       "      episode_num  episode_clip clip_start\n",
       "3304           75          68.0      32:35\n",
       "2096           62          60.0      54:21\n",
       "4506            5          52.0      27:18\n",
       "5523           37          69.0    1:00:25\n",
       "6815           35          52.0      21:29"
      ]
     },
     "execution_count": 38,
     "metadata": {},
     "output_type": "execute_result"
    }
   ],
   "source": [
    "predictions.sample(5)"
   ]
  },
  {
   "cell_type": "code",
   "execution_count": 61,
   "metadata": {},
   "outputs": [],
   "source": [
    "def speaker(df):\n",
    "    for key, val in episode_check.items():\n",
    "        if (df[\"episode_num\"] == key) and (df[\"episode_clip\"] in val[0]):\n",
    "            return \"Sanyam Bhutani\"\n",
    "        \n",
    "    return np.nan\n",
    "            \n",
    "predictions[\"speaker\"] = predictions.apply(speaker, axis=1)"
   ]
  },
  {
   "cell_type": "code",
   "execution_count": 64,
   "metadata": {},
   "outputs": [
    {
     "data": {
      "text/plain": [
       "5188               NaN\n",
       "3350               NaN\n",
       "6088    Sanyam Bhutani\n",
       "5829    Sanyam Bhutani\n",
       "1091               NaN\n",
       "Name: speaker, dtype: object"
      ]
     },
     "execution_count": 64,
     "metadata": {},
     "output_type": "execute_result"
    }
   ],
   "source": [
    "predictions['speaker'].sample(5)"
   ]
  },
  {
   "cell_type": "code",
   "execution_count": 95,
   "metadata": {},
   "outputs": [],
   "source": [
    "def pred_num(df):\n",
    "    for key, val in episode_check.items():\n",
    "        if (df[\"episode_num\"] == key):\n",
    "            for idx, c in enumerate(val[0]):\n",
    "                if df[\"episode_clip\"] == c:\n",
    "                    return int(val[1][idx].item())\n",
    "        \n",
    "    return np.nan\n",
    "\n",
    "predictions[\"pred_num\"] = predictions.apply(pred_num, axis=1)"
   ]
  },
  {
   "cell_type": "code",
   "execution_count": 97,
   "metadata": {},
   "outputs": [
    {
     "data": {
      "text/plain": [
       "1121    6.0\n",
       "4178    NaN\n",
       "331     NaN\n",
       "1578    NaN\n",
       "2711    4.0\n",
       "Name: pred_num, dtype: float64"
      ]
     },
     "execution_count": 97,
     "metadata": {},
     "output_type": "execute_result"
    }
   ],
   "source": [
    "predictions[\"pred_num\"].sample(5)"
   ]
  },
  {
   "cell_type": "code",
   "execution_count": 99,
   "metadata": {},
   "outputs": [],
   "source": [
    "data_dict = {0.0: 'angry', 1.0: 'calm', 2.0: 'disgust', 3.0: 'fearful', 4.0: 'happy', 5.0: 'neutral', 6.0: 'sad', 7.0: 'surprised'}\n",
    "\n",
    "def pred_label(row):\n",
    "    if row and row in data_dict:\n",
    "        return data_dict[row]\n",
    "    return np.nan\n",
    "        \n",
    "predictions[\"pred_label\"] = predictions[\"pred_num\"].apply(pred_label)"
   ]
  },
  {
   "cell_type": "code",
   "execution_count": 104,
   "metadata": {},
   "outputs": [
    {
     "data": {
      "text/html": [
       "<div>\n",
       "<style scoped>\n",
       "    .dataframe tbody tr th:only-of-type {\n",
       "        vertical-align: middle;\n",
       "    }\n",
       "\n",
       "    .dataframe tbody tr th {\n",
       "        vertical-align: top;\n",
       "    }\n",
       "\n",
       "    .dataframe thead th {\n",
       "        text-align: right;\n",
       "    }\n",
       "</style>\n",
       "<table border=\"1\" class=\"dataframe\">\n",
       "  <thead>\n",
       "    <tr style=\"text-align: right;\">\n",
       "      <th></th>\n",
       "      <th>episode_num</th>\n",
       "      <th>episode_clip</th>\n",
       "      <th>clip_start</th>\n",
       "      <th>speaker</th>\n",
       "      <th>pred_num</th>\n",
       "      <th>pred_label</th>\n",
       "    </tr>\n",
       "  </thead>\n",
       "  <tbody>\n",
       "    <tr>\n",
       "      <th>308</th>\n",
       "      <td>66</td>\n",
       "      <td>51.0</td>\n",
       "      <td>55:12</td>\n",
       "      <td>NaN</td>\n",
       "      <td>NaN</td>\n",
       "      <td>NaN</td>\n",
       "    </tr>\n",
       "    <tr>\n",
       "      <th>1526</th>\n",
       "      <td>15</td>\n",
       "      <td>64.0</td>\n",
       "      <td>47:06</td>\n",
       "      <td>Sanyam Bhutani</td>\n",
       "      <td>4.0</td>\n",
       "      <td>happy</td>\n",
       "    </tr>\n",
       "    <tr>\n",
       "      <th>5535</th>\n",
       "      <td>18</td>\n",
       "      <td>0.0</td>\n",
       "      <td>0:13</td>\n",
       "      <td>NaN</td>\n",
       "      <td>NaN</td>\n",
       "      <td>NaN</td>\n",
       "    </tr>\n",
       "    <tr>\n",
       "      <th>4070</th>\n",
       "      <td>36</td>\n",
       "      <td>30.0</td>\n",
       "      <td>13:20</td>\n",
       "      <td>Sanyam Bhutani</td>\n",
       "      <td>4.0</td>\n",
       "      <td>happy</td>\n",
       "    </tr>\n",
       "    <tr>\n",
       "      <th>2530</th>\n",
       "      <td>48</td>\n",
       "      <td>30.0</td>\n",
       "      <td>11:31</td>\n",
       "      <td>Sanyam Bhutani</td>\n",
       "      <td>6.0</td>\n",
       "      <td>sad</td>\n",
       "    </tr>\n",
       "  </tbody>\n",
       "</table>\n",
       "</div>"
      ],
      "text/plain": [
       "      episode_num  episode_clip clip_start         speaker  pred_num  \\\n",
       "308            66          51.0      55:12             NaN       NaN   \n",
       "1526           15          64.0      47:06  Sanyam Bhutani       4.0   \n",
       "5535           18           0.0       0:13             NaN       NaN   \n",
       "4070           36          30.0      13:20  Sanyam Bhutani       4.0   \n",
       "2530           48          30.0      11:31  Sanyam Bhutani       6.0   \n",
       "\n",
       "     pred_label  \n",
       "308         NaN  \n",
       "1526      happy  \n",
       "5535        NaN  \n",
       "4070      happy  \n",
       "2530        sad  "
      ]
     },
     "execution_count": 104,
     "metadata": {},
     "output_type": "execute_result"
    }
   ],
   "source": [
    "predictions.sample(5)"
   ]
  },
  {
   "cell_type": "markdown",
   "metadata": {},
   "source": [
    "I think `predictions` is as ready as it can be for the time being. We can move onto analysis."
   ]
  },
  {
   "cell_type": "code",
   "execution_count": 106,
   "metadata": {},
   "outputs": [],
   "source": [
    "predictions.to_csv(\"/notebooks/storage/ctds_data/predictions.csv\")"
   ]
  },
  {
   "cell_type": "markdown",
   "metadata": {},
   "source": [
    "## Prediction for Guests\n",
    "\n",
    "I managed to extract the data corresponding to the guests as well. I will extend the above for them."
   ]
  },
  {
   "cell_type": "markdown",
   "metadata": {},
   "source": [
    "### Load data"
   ]
  },
  {
   "cell_type": "code",
   "execution_count": 2,
   "metadata": {},
   "outputs": [
    {
     "name": "stdout",
     "output_type": "stream",
     "text": [
      "/notebooks/storage/ctds_data/audio_files_segments_guest/25_136.png\n"
     ]
    }
   ],
   "source": [
    "guest_images = ImageList.from_folder(\"/notebooks/storage/ctds_data/audio_files_segments_guest/\")\n",
    "print(guest_images.items[2])"
   ]
  },
  {
   "cell_type": "markdown",
   "metadata": {},
   "source": [
    "### Load Model"
   ]
  },
  {
   "cell_type": "code",
   "execution_count": 3,
   "metadata": {},
   "outputs": [],
   "source": [
    "learn = load_learner(\"/notebooks\", \"model_export\", test=guest_images)"
   ]
  },
  {
   "cell_type": "markdown",
   "metadata": {},
   "source": [
    "### Predictions"
   ]
  },
  {
   "cell_type": "code",
   "execution_count": 4,
   "metadata": {},
   "outputs": [
    {
     "data": {
      "text/html": [],
      "text/plain": [
       "<IPython.core.display.HTML object>"
      ]
     },
     "metadata": {},
     "output_type": "display_data"
    },
    {
     "name": "stdout",
     "output_type": "stream",
     "text": [
      "torch.Size([3366, 8])\n",
      "tensor([[4.4624e-02, 1.0234e-02, 1.4024e-02, 2.4906e-02, 2.7836e-01, 1.0106e-01,\n",
      "         5.1932e-01, 7.4751e-03],\n",
      "        [2.0837e-01, 2.5329e-03, 2.1087e-03, 2.2924e-03, 6.6199e-01, 1.1084e-01,\n",
      "         1.1328e-02, 5.4082e-04],\n",
      "        [2.9459e-02, 4.8490e-03, 1.5461e-03, 6.3262e-03, 5.2660e-01, 3.3569e-01,\n",
      "         8.7672e-02, 7.8569e-03]])\n"
     ]
    }
   ],
   "source": [
    "preds, y = learn.get_preds(ds_type=DatasetType.Test)\n",
    "\n",
    "print(preds.shape)\n",
    "print(preds[:3])"
   ]
  },
  {
   "cell_type": "code",
   "execution_count": 5,
   "metadata": {},
   "outputs": [
    {
     "name": "stdout",
     "output_type": "stream",
     "text": [
      "torch.Size([3366])\n",
      "tensor([6, 4, 4])\n"
     ]
    }
   ],
   "source": [
    "labels = np.argmax(preds, 1)\n",
    "print(labels.shape)\n",
    "print(labels[:3])"
   ]
  },
  {
   "cell_type": "markdown",
   "metadata": {},
   "source": [
    "### Modify Dataframe\n",
    "\n",
    "I already have the data corresponding to Sanyam's audio clips, so I will append these new values to that same dataframe."
   ]
  },
  {
   "cell_type": "code",
   "execution_count": 18,
   "metadata": {},
   "outputs": [
    {
     "data": {
      "text/html": [
       "<div>\n",
       "<style scoped>\n",
       "    .dataframe tbody tr th:only-of-type {\n",
       "        vertical-align: middle;\n",
       "    }\n",
       "\n",
       "    .dataframe tbody tr th {\n",
       "        vertical-align: top;\n",
       "    }\n",
       "\n",
       "    .dataframe thead th {\n",
       "        text-align: right;\n",
       "    }\n",
       "</style>\n",
       "<table border=\"1\" class=\"dataframe\">\n",
       "  <thead>\n",
       "    <tr style=\"text-align: right;\">\n",
       "      <th></th>\n",
       "      <th>Unnamed: 0</th>\n",
       "      <th>episode_num</th>\n",
       "      <th>episode_clip</th>\n",
       "      <th>clip_start</th>\n",
       "      <th>speaker</th>\n",
       "      <th>pred_num</th>\n",
       "      <th>pred_label</th>\n",
       "    </tr>\n",
       "  </thead>\n",
       "  <tbody>\n",
       "    <tr>\n",
       "      <th>3580</th>\n",
       "      <td>3580</td>\n",
       "      <td>24</td>\n",
       "      <td>66.0</td>\n",
       "      <td>55:44</td>\n",
       "      <td>Sanyam Bhutani</td>\n",
       "      <td>0.0</td>\n",
       "      <td>NaN</td>\n",
       "    </tr>\n",
       "    <tr>\n",
       "      <th>4120</th>\n",
       "      <td>4120</td>\n",
       "      <td>36</td>\n",
       "      <td>80.0</td>\n",
       "      <td>26:59</td>\n",
       "      <td>NaN</td>\n",
       "      <td>NaN</td>\n",
       "      <td>NaN</td>\n",
       "    </tr>\n",
       "    <tr>\n",
       "      <th>983</th>\n",
       "      <td>983</td>\n",
       "      <td>33</td>\n",
       "      <td>103.0</td>\n",
       "      <td>52:31</td>\n",
       "      <td>NaN</td>\n",
       "      <td>NaN</td>\n",
       "      <td>NaN</td>\n",
       "    </tr>\n",
       "    <tr>\n",
       "      <th>2975</th>\n",
       "      <td>2975</td>\n",
       "      <td>19</td>\n",
       "      <td>39.0</td>\n",
       "      <td>11:23</td>\n",
       "      <td>NaN</td>\n",
       "      <td>NaN</td>\n",
       "      <td>NaN</td>\n",
       "    </tr>\n",
       "    <tr>\n",
       "      <th>6175</th>\n",
       "      <td>6175</td>\n",
       "      <td>72</td>\n",
       "      <td>56.0</td>\n",
       "      <td>46:35</td>\n",
       "      <td>Sanyam Bhutani</td>\n",
       "      <td>1.0</td>\n",
       "      <td>calm</td>\n",
       "    </tr>\n",
       "  </tbody>\n",
       "</table>\n",
       "</div>"
      ],
      "text/plain": [
       "      Unnamed: 0  episode_num  episode_clip clip_start         speaker  \\\n",
       "3580        3580           24          66.0      55:44  Sanyam Bhutani   \n",
       "4120        4120           36          80.0      26:59             NaN   \n",
       "983          983           33         103.0      52:31             NaN   \n",
       "2975        2975           19          39.0      11:23             NaN   \n",
       "6175        6175           72          56.0      46:35  Sanyam Bhutani   \n",
       "\n",
       "      pred_num pred_label  \n",
       "3580       0.0        NaN  \n",
       "4120       NaN        NaN  \n",
       "983        NaN        NaN  \n",
       "2975       NaN        NaN  \n",
       "6175       1.0       calm  "
      ]
     },
     "execution_count": 18,
     "metadata": {},
     "output_type": "execute_result"
    }
   ],
   "source": [
    "predictions = pd.read_csv(\"/notebooks/storage/ctds_data/predictions.csv\")\n",
    "predictions.sample(5)"
   ]
  },
  {
   "cell_type": "markdown",
   "metadata": {},
   "source": [
    "Since I didn't future-proof my previous functions, I will modify and use them again for this."
   ]
  },
  {
   "cell_type": "code",
   "execution_count": 67,
   "metadata": {},
   "outputs": [],
   "source": [
    "input_path = \"/notebooks/storage/ctds_data/audio_files/\"\n",
    "path = os.listdir(input_path)\n",
    "data_path = \"/notebooks/storage/ctds_data/Cleaned Subtitles/\"\n",
    "episode_check = dict()\n",
    "for file in path:\n",
    "    ep_num = int(file.split('.mp3')[0])\n",
    "\n",
    "    # account for non-interview episodes and missing E4 subtitles and E46\n",
    "    if (ep_num > 45 and ep_num < 55):\n",
    "        continue\n",
    "    elif (ep_num == 4):\n",
    "        if ep_num not in episode_check:\n",
    "            episode_check[ep_num] = [np.nan, np.nan]\n",
    "        else:\n",
    "            episode_check[ep_num].append([np.nan, np.nan])\n",
    "        continue\n",
    "    elif ep_num > 54:\n",
    "        ep_num = ep_num - 9\n",
    "    episode_transcript = pd.read_csv(data_path + \"E\" + str(ep_num) + \".csv\")\n",
    "    \n",
    "    count = 0\n",
    "    for idx, row in episode_transcript.iterrows(): \n",
    "        if ep_num not in episode_check:\n",
    "            episode_check[ep_num] = [[idx, row[\"Speaker\"]]]\n",
    "        else:\n",
    "            episode_check[ep_num].append([idx, row[\"Speaker\"]])"
   ]
  },
  {
   "cell_type": "code",
   "execution_count": 100,
   "metadata": {},
   "outputs": [],
   "source": [
    "episode_check_labels = dict()\n",
    "pattern = r\"segments_guest/(.*).png\"\n",
    "exp = re.compile(pattern)\n",
    "for idx, item in enumerate(guest_images.items):\n",
    "    op = exp.findall(str(item))[0]\n",
    "    ep = int(op.split(\"_\")[0])\n",
    "    clip = float(op.split(\"_\")[1])\n",
    "    if ep not in episode_check_labels:\n",
    "        episode_check_labels[ep] = [[clip], [labels[idx]]]\n",
    "    else:\n",
    "        episode_check_labels[ep][0].append(clip)\n",
    "        episode_check_labels[ep][1].append(labels[idx])"
   ]
  },
  {
   "cell_type": "code",
   "execution_count": 95,
   "metadata": {},
   "outputs": [],
   "source": [
    "def speaker(df):\n",
    "    if df[\"episode_num\"] == 4:\n",
    "        return np.nan\n",
    "    \n",
    "    for key, val in episode_check.items():\n",
    "        if (int(df[\"episode_num\"]) == key):\n",
    "                for v in val:\n",
    "                    if v[0] == df[\"episode_clip\"]:\n",
    "                        return v[1]\n",
    "            \n",
    "predictions[\"speaker\"] = predictions.apply(speaker, axis=1)"
   ]
  },
  {
   "cell_type": "code",
   "execution_count": 96,
   "metadata": {},
   "outputs": [
    {
     "data": {
      "text/html": [
       "<div>\n",
       "<style scoped>\n",
       "    .dataframe tbody tr th:only-of-type {\n",
       "        vertical-align: middle;\n",
       "    }\n",
       "\n",
       "    .dataframe tbody tr th {\n",
       "        vertical-align: top;\n",
       "    }\n",
       "\n",
       "    .dataframe thead th {\n",
       "        text-align: right;\n",
       "    }\n",
       "</style>\n",
       "<table border=\"1\" class=\"dataframe\">\n",
       "  <thead>\n",
       "    <tr style=\"text-align: right;\">\n",
       "      <th></th>\n",
       "      <th>Unnamed: 0</th>\n",
       "      <th>episode_num</th>\n",
       "      <th>episode_clip</th>\n",
       "      <th>clip_start</th>\n",
       "      <th>speaker</th>\n",
       "      <th>pred_num</th>\n",
       "      <th>pred_label</th>\n",
       "    </tr>\n",
       "  </thead>\n",
       "  <tbody>\n",
       "    <tr>\n",
       "      <th>6154</th>\n",
       "      <td>6154</td>\n",
       "      <td>72</td>\n",
       "      <td>35.0</td>\n",
       "      <td>33:19</td>\n",
       "      <td>Andreas Mueller</td>\n",
       "      <td>NaN</td>\n",
       "      <td>NaN</td>\n",
       "    </tr>\n",
       "    <tr>\n",
       "      <th>633</th>\n",
       "      <td>633</td>\n",
       "      <td>45</td>\n",
       "      <td>55.0</td>\n",
       "      <td>40:43</td>\n",
       "      <td>Marios</td>\n",
       "      <td>NaN</td>\n",
       "      <td>NaN</td>\n",
       "    </tr>\n",
       "    <tr>\n",
       "      <th>1672</th>\n",
       "      <td>1672</td>\n",
       "      <td>53</td>\n",
       "      <td>22.0</td>\n",
       "      <td>21:20</td>\n",
       "      <td>Sanyam Bhutani</td>\n",
       "      <td>4.0</td>\n",
       "      <td>happy</td>\n",
       "    </tr>\n",
       "    <tr>\n",
       "      <th>1339</th>\n",
       "      <td>1339</td>\n",
       "      <td>47</td>\n",
       "      <td>33.0</td>\n",
       "      <td>25:29</td>\n",
       "      <td>John Miller</td>\n",
       "      <td>NaN</td>\n",
       "      <td>NaN</td>\n",
       "    </tr>\n",
       "    <tr>\n",
       "      <th>2880</th>\n",
       "      <td>2880</td>\n",
       "      <td>60</td>\n",
       "      <td>68.0</td>\n",
       "      <td>51:09</td>\n",
       "      <td>Sanyam Bhutani</td>\n",
       "      <td>6.0</td>\n",
       "      <td>sad</td>\n",
       "    </tr>\n",
       "  </tbody>\n",
       "</table>\n",
       "</div>"
      ],
      "text/plain": [
       "      Unnamed: 0  episode_num  episode_clip clip_start          speaker  \\\n",
       "6154        6154           72          35.0      33:19  Andreas Mueller   \n",
       "633          633           45          55.0      40:43           Marios   \n",
       "1672        1672           53          22.0      21:20   Sanyam Bhutani   \n",
       "1339        1339           47          33.0      25:29      John Miller   \n",
       "2880        2880           60          68.0      51:09   Sanyam Bhutani   \n",
       "\n",
       "      pred_num pred_label  \n",
       "6154       NaN        NaN  \n",
       "633        NaN        NaN  \n",
       "1672       4.0      happy  \n",
       "1339       NaN        NaN  \n",
       "2880       6.0        sad  "
      ]
     },
     "execution_count": 96,
     "metadata": {},
     "output_type": "execute_result"
    }
   ],
   "source": [
    "predictions.sample(5)"
   ]
  },
  {
   "cell_type": "code",
   "execution_count": 132,
   "metadata": {},
   "outputs": [
    {
     "data": {
      "text/html": [
       "<div>\n",
       "<style scoped>\n",
       "    .dataframe tbody tr th:only-of-type {\n",
       "        vertical-align: middle;\n",
       "    }\n",
       "\n",
       "    .dataframe tbody tr th {\n",
       "        vertical-align: top;\n",
       "    }\n",
       "\n",
       "    .dataframe thead th {\n",
       "        text-align: right;\n",
       "    }\n",
       "</style>\n",
       "<table border=\"1\" class=\"dataframe\">\n",
       "  <thead>\n",
       "    <tr style=\"text-align: right;\">\n",
       "      <th></th>\n",
       "      <th>Unnamed: 0</th>\n",
       "      <th>episode_num</th>\n",
       "      <th>episode_clip</th>\n",
       "      <th>clip_start</th>\n",
       "      <th>speaker</th>\n",
       "      <th>pred_num</th>\n",
       "      <th>pred_label</th>\n",
       "    </tr>\n",
       "  </thead>\n",
       "  <tbody>\n",
       "    <tr>\n",
       "      <th>0</th>\n",
       "      <td>0</td>\n",
       "      <td>29</td>\n",
       "      <td>0.0</td>\n",
       "      <td>0:13</td>\n",
       "      <td>Sanyam Bhutani</td>\n",
       "      <td>NaN</td>\n",
       "      <td>NaN</td>\n",
       "    </tr>\n",
       "    <tr>\n",
       "      <th>1</th>\n",
       "      <td>1</td>\n",
       "      <td>29</td>\n",
       "      <td>1.0</td>\n",
       "      <td>3:42</td>\n",
       "      <td>Sanyam Bhutani</td>\n",
       "      <td>4.0</td>\n",
       "      <td>happy</td>\n",
       "    </tr>\n",
       "    <tr>\n",
       "      <th>2</th>\n",
       "      <td>2</td>\n",
       "      <td>29</td>\n",
       "      <td>2.0</td>\n",
       "      <td>3:49</td>\n",
       "      <td>Eugene Khvedchenya</td>\n",
       "      <td>4.0</td>\n",
       "      <td>NaN</td>\n",
       "    </tr>\n",
       "    <tr>\n",
       "      <th>3</th>\n",
       "      <td>3</td>\n",
       "      <td>29</td>\n",
       "      <td>3.0</td>\n",
       "      <td>3:53</td>\n",
       "      <td>Sanyam Bhutani</td>\n",
       "      <td>4.0</td>\n",
       "      <td>happy</td>\n",
       "    </tr>\n",
       "    <tr>\n",
       "      <th>4</th>\n",
       "      <td>4</td>\n",
       "      <td>29</td>\n",
       "      <td>4.0</td>\n",
       "      <td>4:08</td>\n",
       "      <td>Eugene Khvedchenya</td>\n",
       "      <td>4.0</td>\n",
       "      <td>NaN</td>\n",
       "    </tr>\n",
       "  </tbody>\n",
       "</table>\n",
       "</div>"
      ],
      "text/plain": [
       "   Unnamed: 0  episode_num  episode_clip clip_start             speaker  \\\n",
       "0           0           29           0.0       0:13      Sanyam Bhutani   \n",
       "1           1           29           1.0       3:42      Sanyam Bhutani   \n",
       "2           2           29           2.0       3:49  Eugene Khvedchenya   \n",
       "3           3           29           3.0       3:53      Sanyam Bhutani   \n",
       "4           4           29           4.0       4:08  Eugene Khvedchenya   \n",
       "\n",
       "   pred_num pred_label  \n",
       "0       NaN        NaN  \n",
       "1       4.0      happy  \n",
       "2       4.0        NaN  \n",
       "3       4.0      happy  \n",
       "4       4.0        NaN  "
      ]
     },
     "execution_count": 132,
     "metadata": {},
     "output_type": "execute_result"
    }
   ],
   "source": [
    "def pred_num(df):\n",
    "    if np.isnan(df['pred_num']):\n",
    "        for key, val in episode_check_labels.items():\n",
    "            if (df[\"episode_num\"] == key):\n",
    "                for idx, c in enumerate(val[0]):\n",
    "                    if df[\"episode_clip\"] == c:\n",
    "                        return int(val[1][idx].item())\n",
    "    return df[\"pred_num\"]\n",
    "\n",
    "\n",
    "predictions[\"pred_num\"] = predictions.apply(pred_num, axis=1)\n",
    "predictions.head()"
   ]
  },
  {
   "cell_type": "code",
   "execution_count": 133,
   "metadata": {},
   "outputs": [
    {
     "data": {
      "text/html": [
       "<div>\n",
       "<style scoped>\n",
       "    .dataframe tbody tr th:only-of-type {\n",
       "        vertical-align: middle;\n",
       "    }\n",
       "\n",
       "    .dataframe tbody tr th {\n",
       "        vertical-align: top;\n",
       "    }\n",
       "\n",
       "    .dataframe thead th {\n",
       "        text-align: right;\n",
       "    }\n",
       "</style>\n",
       "<table border=\"1\" class=\"dataframe\">\n",
       "  <thead>\n",
       "    <tr style=\"text-align: right;\">\n",
       "      <th></th>\n",
       "      <th>Unnamed: 0</th>\n",
       "      <th>episode_num</th>\n",
       "      <th>episode_clip</th>\n",
       "      <th>clip_start</th>\n",
       "      <th>speaker</th>\n",
       "      <th>pred_num</th>\n",
       "      <th>pred_label</th>\n",
       "    </tr>\n",
       "  </thead>\n",
       "  <tbody>\n",
       "    <tr>\n",
       "      <th>3371</th>\n",
       "      <td>3371</td>\n",
       "      <td>43</td>\n",
       "      <td>58.0</td>\n",
       "      <td>27:33</td>\n",
       "      <td>Sanyam Bhutani</td>\n",
       "      <td>4.0</td>\n",
       "      <td>happy</td>\n",
       "    </tr>\n",
       "    <tr>\n",
       "      <th>2910</th>\n",
       "      <td>2910</td>\n",
       "      <td>69</td>\n",
       "      <td>27.0</td>\n",
       "      <td>38:53</td>\n",
       "      <td>Sanyam Bhutani</td>\n",
       "      <td>4.0</td>\n",
       "      <td>happy</td>\n",
       "    </tr>\n",
       "    <tr>\n",
       "      <th>4168</th>\n",
       "      <td>4168</td>\n",
       "      <td>36</td>\n",
       "      <td>128.0</td>\n",
       "      <td>43:16</td>\n",
       "      <td>Jason Antic</td>\n",
       "      <td>6.0</td>\n",
       "      <td>sad</td>\n",
       "    </tr>\n",
       "    <tr>\n",
       "      <th>6279</th>\n",
       "      <td>6279</td>\n",
       "      <td>14</td>\n",
       "      <td>76.0</td>\n",
       "      <td>28:58</td>\n",
       "      <td>Pierre Stock</td>\n",
       "      <td>6.0</td>\n",
       "      <td>sad</td>\n",
       "    </tr>\n",
       "    <tr>\n",
       "      <th>1437</th>\n",
       "      <td>1437</td>\n",
       "      <td>22</td>\n",
       "      <td>72.0</td>\n",
       "      <td>48:26</td>\n",
       "      <td>Sanyam Bhutani</td>\n",
       "      <td>NaN</td>\n",
       "      <td>NaN</td>\n",
       "    </tr>\n",
       "  </tbody>\n",
       "</table>\n",
       "</div>"
      ],
      "text/plain": [
       "      Unnamed: 0  episode_num  episode_clip clip_start         speaker  \\\n",
       "3371        3371           43          58.0      27:33  Sanyam Bhutani   \n",
       "2910        2910           69          27.0      38:53  Sanyam Bhutani   \n",
       "4168        4168           36         128.0      43:16     Jason Antic   \n",
       "6279        6279           14          76.0      28:58    Pierre Stock   \n",
       "1437        1437           22          72.0      48:26  Sanyam Bhutani   \n",
       "\n",
       "      pred_num pred_label  \n",
       "3371       4.0      happy  \n",
       "2910       4.0      happy  \n",
       "4168       6.0        sad  \n",
       "6279       6.0        sad  \n",
       "1437       NaN        NaN  "
      ]
     },
     "execution_count": 133,
     "metadata": {},
     "output_type": "execute_result"
    }
   ],
   "source": [
    "data_dict = {0.0: 'angry', 1.0: 'calm', 2.0: 'disgust', 3.0: 'fearful', 4.0: 'happy', 5.0: 'neutral', 6.0: 'sad', 7.0: 'surprised'}\n",
    "\n",
    "def pred_label(row):\n",
    "    if row and row in data_dict:\n",
    "        return data_dict[row]\n",
    "    return np.nan\n",
    "        \n",
    "predictions[\"pred_label\"] = predictions[\"pred_num\"].apply(pred_label)\n",
    "predictions.sample(5)"
   ]
  },
  {
   "cell_type": "markdown",
   "metadata": {},
   "source": [
    "There are some discrepancies with the predictions where it seems prediction should NOT be NaN. But we will look into that later. We will clean up `predictions` before saving it.\n",
    "\n",
    "- Remove Unnamed: 0 column\n",
    "- Sort by episode_num and episode_clip"
   ]
  },
  {
   "cell_type": "code",
   "execution_count": 136,
   "metadata": {},
   "outputs": [
    {
     "data": {
      "text/html": [
       "<div>\n",
       "<style scoped>\n",
       "    .dataframe tbody tr th:only-of-type {\n",
       "        vertical-align: middle;\n",
       "    }\n",
       "\n",
       "    .dataframe tbody tr th {\n",
       "        vertical-align: top;\n",
       "    }\n",
       "\n",
       "    .dataframe thead th {\n",
       "        text-align: right;\n",
       "    }\n",
       "</style>\n",
       "<table border=\"1\" class=\"dataframe\">\n",
       "  <thead>\n",
       "    <tr style=\"text-align: right;\">\n",
       "      <th></th>\n",
       "      <th>episode_num</th>\n",
       "      <th>episode_clip</th>\n",
       "      <th>clip_start</th>\n",
       "      <th>speaker</th>\n",
       "      <th>pred_num</th>\n",
       "      <th>pred_label</th>\n",
       "    </tr>\n",
       "  </thead>\n",
       "  <tbody>\n",
       "    <tr>\n",
       "      <th>0</th>\n",
       "      <td>29</td>\n",
       "      <td>0.0</td>\n",
       "      <td>0:13</td>\n",
       "      <td>Sanyam Bhutani</td>\n",
       "      <td>NaN</td>\n",
       "      <td>NaN</td>\n",
       "    </tr>\n",
       "  </tbody>\n",
       "</table>\n",
       "</div>"
      ],
      "text/plain": [
       "   episode_num  episode_clip clip_start         speaker  pred_num pred_label\n",
       "0           29           0.0       0:13  Sanyam Bhutani       NaN        NaN"
      ]
     },
     "execution_count": 136,
     "metadata": {},
     "output_type": "execute_result"
    }
   ],
   "source": [
    "predictions = predictions.drop(columns=[\"Unnamed: 0\"])\n",
    "predictions.head(1)"
   ]
  },
  {
   "cell_type": "code",
   "execution_count": 142,
   "metadata": {},
   "outputs": [
    {
     "data": {
      "text/html": [
       "<div>\n",
       "<style scoped>\n",
       "    .dataframe tbody tr th:only-of-type {\n",
       "        vertical-align: middle;\n",
       "    }\n",
       "\n",
       "    .dataframe tbody tr th {\n",
       "        vertical-align: top;\n",
       "    }\n",
       "\n",
       "    .dataframe thead th {\n",
       "        text-align: right;\n",
       "    }\n",
       "</style>\n",
       "<table border=\"1\" class=\"dataframe\">\n",
       "  <thead>\n",
       "    <tr style=\"text-align: right;\">\n",
       "      <th></th>\n",
       "      <th>episode_num</th>\n",
       "      <th>episode_clip</th>\n",
       "      <th>clip_start</th>\n",
       "      <th>speaker</th>\n",
       "      <th>pred_num</th>\n",
       "      <th>pred_label</th>\n",
       "    </tr>\n",
       "  </thead>\n",
       "  <tbody>\n",
       "    <tr>\n",
       "      <th>0</th>\n",
       "      <td>1</td>\n",
       "      <td>0.0</td>\n",
       "      <td>0:13</td>\n",
       "      <td>Sanyam Bhutani</td>\n",
       "      <td>NaN</td>\n",
       "      <td>NaN</td>\n",
       "    </tr>\n",
       "    <tr>\n",
       "      <th>1</th>\n",
       "      <td>1</td>\n",
       "      <td>1.0</td>\n",
       "      <td>1:49</td>\n",
       "      <td>Abhishek Thakur</td>\n",
       "      <td>7.0</td>\n",
       "      <td>surprised</td>\n",
       "    </tr>\n",
       "    <tr>\n",
       "      <th>2</th>\n",
       "      <td>1</td>\n",
       "      <td>2.0</td>\n",
       "      <td>1:53</td>\n",
       "      <td>Sanyam Bhutani</td>\n",
       "      <td>4.0</td>\n",
       "      <td>happy</td>\n",
       "    </tr>\n",
       "    <tr>\n",
       "      <th>3</th>\n",
       "      <td>1</td>\n",
       "      <td>3.0</td>\n",
       "      <td>2:12</td>\n",
       "      <td>Abhishek Thakur</td>\n",
       "      <td>5.0</td>\n",
       "      <td>neutral</td>\n",
       "    </tr>\n",
       "    <tr>\n",
       "      <th>4</th>\n",
       "      <td>1</td>\n",
       "      <td>4.0</td>\n",
       "      <td>2:41</td>\n",
       "      <td>Sanyam Bhutani</td>\n",
       "      <td>4.0</td>\n",
       "      <td>happy</td>\n",
       "    </tr>\n",
       "  </tbody>\n",
       "</table>\n",
       "</div>"
      ],
      "text/plain": [
       "   episode_num  episode_clip clip_start          speaker  pred_num pred_label\n",
       "0            1           0.0       0:13   Sanyam Bhutani       NaN        NaN\n",
       "1            1           1.0       1:49  Abhishek Thakur       7.0  surprised\n",
       "2            1           2.0       1:53   Sanyam Bhutani       4.0      happy\n",
       "3            1           3.0       2:12  Abhishek Thakur       5.0    neutral\n",
       "4            1           4.0       2:41   Sanyam Bhutani       4.0      happy"
      ]
     },
     "execution_count": 142,
     "metadata": {},
     "output_type": "execute_result"
    }
   ],
   "source": [
    "predictions = predictions.sort_values(by=[\"episode_num\", \"episode_clip\"]).reset_index(drop=True)\n",
    "predictions.head()"
   ]
  },
  {
   "cell_type": "code",
   "execution_count": 143,
   "metadata": {},
   "outputs": [],
   "source": [
    "predictions.to_csv(\"/notebooks/storage/ctds_data/predictions.csv\")"
   ]
  }
 ],
 "metadata": {
  "kernelspec": {
   "display_name": "Python 3",
   "language": "python",
   "name": "python3"
  },
  "language_info": {
   "codemirror_mode": {
    "name": "ipython",
    "version": 3
   },
   "file_extension": ".py",
   "mimetype": "text/x-python",
   "name": "python",
   "nbconvert_exporter": "python",
   "pygments_lexer": "ipython3",
   "version": "3.6.7"
  }
 },
 "nbformat": 4,
 "nbformat_minor": 2
}
